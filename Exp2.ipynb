{
 "cells": [
  {
   "cell_type": "code",
   "execution_count": 24,
   "id": "2a54b1d1-cb5d-4075-b1cc-3e7a19909fe5",
   "metadata": {},
   "outputs": [],
   "source": [
    "import pandas as pd\n",
    "import numpy as np"
   ]
  },
  {
   "cell_type": "code",
   "execution_count": 3,
   "id": "7bd7ca27-758b-4cb2-a4b6-cd54410cc415",
   "metadata": {},
   "outputs": [
    {
     "name": "stdout",
     "output_type": "stream",
     "text": [
      "      gender race/ethnicity parental level of education         lunch  \\\n",
      "0     female        group B           bachelor's degree      standard   \n",
      "1     female        group C                some college      standard   \n",
      "2     female        group B             master's degree      standard   \n",
      "3       male        group A          associate's degree  free/reduced   \n",
      "4       male        group C                some college      standard   \n",
      "...      ...            ...                         ...           ...   \n",
      "2235     NaN            NaN                         NaN           NaN   \n",
      "2236     NaN            NaN                         NaN           NaN   \n",
      "2237     NaN            NaN                         NaN           NaN   \n",
      "2238     NaN            NaN                         NaN           NaN   \n",
      "2239     NaN            NaN                         NaN           NaN   \n",
      "\n",
      "     test preparation course  Year_Birth  math score reading score  \\\n",
      "0                       none      1970.0        72.0            72   \n",
      "1                  completed      1961.0         NaN            na   \n",
      "2                       none      1958.0        90.0            95   \n",
      "3                       none      1967.0         NaN           NaN   \n",
      "4                       none      1989.0        76.0            78   \n",
      "...                      ...         ...         ...           ...   \n",
      "2235                     NaN         NaN         NaN           NaN   \n",
      "2236                     NaN         NaN         NaN           NaN   \n",
      "2237                     NaN         NaN         NaN           NaN   \n",
      "2238                     NaN         NaN         NaN           NaN   \n",
      "2239                     NaN         NaN         NaN           NaN   \n",
      "\n",
      "     writing score Dt_Admission College_Fees  \n",
      "0               74      6/16/14  $84,835.00   \n",
      "1                A      6/15/14  $57,091.00   \n",
      "2               93      5/13/14  $67,267.00   \n",
      "3               44   05-11-2014  $32,474.00   \n",
      "4               75   04-08-2014  $21,474.00   \n",
      "...            ...          ...          ...  \n",
      "2235           NaN          NaN          NaN  \n",
      "2236           NaN          NaN          NaN  \n",
      "2237           NaN          NaN          NaN  \n",
      "2238           NaN          NaN          NaN  \n",
      "2239           NaN          NaN          NaN  \n",
      "\n",
      "[2240 rows x 11 columns]\n"
     ]
    }
   ],
   "source": [
    "df = pd.read_csv(\"AcademicPerformance.csv\")\n",
    "print(df)"
   ]
  },
  {
   "cell_type": "code",
   "execution_count": 4,
   "id": "7839c324-598f-4bcd-9fc5-b2c9fabbb5dd",
   "metadata": {},
   "outputs": [
    {
     "name": "stdout",
     "output_type": "stream",
     "text": [
      "0       72.0\n",
      "1        NaN\n",
      "2       90.0\n",
      "3        NaN\n",
      "4       76.0\n",
      "        ... \n",
      "2235     NaN\n",
      "2236     NaN\n",
      "2237     NaN\n",
      "2238     NaN\n",
      "2239     NaN\n",
      "Name: math score, Length: 2240, dtype: float64\n"
     ]
    }
   ],
   "source": [
    "print(df['math score'])"
   ]
  },
  {
   "cell_type": "code",
   "execution_count": 8,
   "id": "0180b621-951c-4eac-ad86-956f66e68c41",
   "metadata": {},
   "outputs": [
    {
     "name": "stdout",
     "output_type": "stream",
     "text": [
      "0       False\n",
      "1        True\n",
      "2       False\n",
      "3        True\n",
      "4       False\n",
      "        ...  \n",
      "2235     True\n",
      "2236     True\n",
      "2237     True\n",
      "2238     True\n",
      "2239     True\n",
      "Name: math score, Length: 2240, dtype: bool\n"
     ]
    }
   ],
   "source": [
    "print(df['math score'].isnull())"
   ]
  },
  {
   "cell_type": "code",
   "execution_count": 10,
   "id": "58a9a020-7022-4aff-9d32-26a27f4d9c75",
   "metadata": {},
   "outputs": [
    {
     "name": "stdout",
     "output_type": "stream",
     "text": [
      "0        72\n",
      "1        na\n",
      "2        95\n",
      "3       NaN\n",
      "4        78\n",
      "       ... \n",
      "2235    NaN\n",
      "2236    NaN\n",
      "2237    NaN\n",
      "2238    NaN\n",
      "2239    NaN\n",
      "Name: reading score, Length: 2240, dtype: object\n"
     ]
    }
   ],
   "source": [
    "print(df['reading score'])"
   ]
  },
  {
   "cell_type": "code",
   "execution_count": 11,
   "id": "a99ea927-95b3-48ff-b902-69ef58aa8149",
   "metadata": {},
   "outputs": [
    {
     "name": "stdout",
     "output_type": "stream",
     "text": [
      "0       False\n",
      "1       False\n",
      "2       False\n",
      "3        True\n",
      "4       False\n",
      "        ...  \n",
      "2235     True\n",
      "2236     True\n",
      "2237     True\n",
      "2238     True\n",
      "2239     True\n",
      "Name: reading score, Length: 2240, dtype: bool\n"
     ]
    }
   ],
   "source": [
    "print(df['reading score'].isnull())"
   ]
  },
  {
   "cell_type": "code",
   "execution_count": 14,
   "id": "5febfac1-3fee-4a57-8472-a56c0ae82fcf",
   "metadata": {},
   "outputs": [
    {
     "name": "stdout",
     "output_type": "stream",
     "text": [
      "      gender race/ethnicity parental level of education         lunch  \\\n",
      "0     female        group B           bachelor's degree      standard   \n",
      "1     female        group C                some college      standard   \n",
      "2     female        group B             master's degree      standard   \n",
      "3       male        group A          associate's degree  free/reduced   \n",
      "4       male        group C                some college      standard   \n",
      "...      ...            ...                         ...           ...   \n",
      "2235     NaN            NaN                         NaN           NaN   \n",
      "2236     NaN            NaN                         NaN           NaN   \n",
      "2237     NaN            NaN                         NaN           NaN   \n",
      "2238     NaN            NaN                         NaN           NaN   \n",
      "2239     NaN            NaN                         NaN           NaN   \n",
      "\n",
      "     test preparation course  Year_Birth  math score  reading score  \\\n",
      "0                       none      1970.0        72.0           72.0   \n",
      "1                  completed      1961.0         NaN            NaN   \n",
      "2                       none      1958.0        90.0           95.0   \n",
      "3                       none      1967.0         NaN            NaN   \n",
      "4                       none      1989.0        76.0           78.0   \n",
      "...                      ...         ...         ...            ...   \n",
      "2235                     NaN         NaN         NaN            NaN   \n",
      "2236                     NaN         NaN         NaN            NaN   \n",
      "2237                     NaN         NaN         NaN            NaN   \n",
      "2238                     NaN         NaN         NaN            NaN   \n",
      "2239                     NaN         NaN         NaN            NaN   \n",
      "\n",
      "     writing score Dt_Admission College_Fees  \n",
      "0               74      6/16/14  $84,835.00   \n",
      "1                A      6/15/14  $57,091.00   \n",
      "2               93      5/13/14  $67,267.00   \n",
      "3               44   05-11-2014  $32,474.00   \n",
      "4               75   04-08-2014  $21,474.00   \n",
      "...            ...          ...          ...  \n",
      "2235           NaN          NaN          NaN  \n",
      "2236           NaN          NaN          NaN  \n",
      "2237           NaN          NaN          NaN  \n",
      "2238           NaN          NaN          NaN  \n",
      "2239           NaN          NaN          NaN  \n",
      "\n",
      "[2240 rows x 11 columns]\n"
     ]
    }
   ],
   "source": [
    "missing_value = ['na','--','n/a']\n",
    "df = pd.read_csv(\"AcademicPerformance.csv\",na_values = missing_value)\n",
    "print(df)"
   ]
  },
  {
   "cell_type": "code",
   "execution_count": 16,
   "id": "2b6efa97-ca01-469c-8af3-3a66b04e8f44",
   "metadata": {},
   "outputs": [
    {
     "name": "stdout",
     "output_type": "stream",
     "text": [
      "0          6/16/14\n",
      "1          6/15/14\n",
      "2          5/13/14\n",
      "3       05-11-2014\n",
      "4       04-08-2014\n",
      "           ...    \n",
      "2235           NaN\n",
      "2236           NaN\n",
      "2237           NaN\n",
      "2238           NaN\n",
      "2239           NaN\n",
      "Name: Dt_Admission, Length: 2240, dtype: object\n"
     ]
    }
   ],
   "source": [
    "print(df[\"Dt_Admission\"])"
   ]
  },
  {
   "cell_type": "code",
   "execution_count": 22,
   "id": "18c2c56b-ceb5-42e5-a015-66ae2c7d309a",
   "metadata": {
    "scrolled": true
   },
   "outputs": [
    {
     "name": "stdout",
     "output_type": "stream",
     "text": [
      "0      2014-06-16\n",
      "1      2014-06-15\n",
      "2      2014-05-13\n",
      "3      2014-05-11\n",
      "4      2014-04-08\n",
      "          ...    \n",
      "2235          NaT\n",
      "2236          NaT\n",
      "2237          NaT\n",
      "2238          NaT\n",
      "2239          NaT\n",
      "Name: Dt_Admission, Length: 2240, dtype: datetime64[ns]\n"
     ]
    }
   ],
   "source": [
    "df[\"Dt_Admission\"] = pd.to_datetime(df[\"Dt_Admission\"], errors=\"coerce\")\n",
    "print(df[\"Dt_Admission\"])"
   ]
  },
  {
   "cell_type": "code",
   "execution_count": 27,
   "id": "4ac574a5-772b-4412-9c2d-12f6c95f7e9d",
   "metadata": {},
   "outputs": [
    {
     "data": {
      "text/plain": [
       "[10, 16, 20, 45, 68, 78, 95]"
      ]
     },
     "execution_count": 27,
     "metadata": {},
     "output_type": "execute_result"
    }
   ],
   "source": [
    "dataset = [20,45,68,78,95,10,16]\n",
    "sorted(dataset)"
   ]
  },
  {
   "cell_type": "code",
   "execution_count": 29,
   "id": "c019912f-3f86-4acc-b6d1-fbf20edd80ce",
   "metadata": {},
   "outputs": [
    {
     "name": "stdout",
     "output_type": "stream",
     "text": [
      "18.0 73.0\n"
     ]
    }
   ],
   "source": [
    "quantile1,quantile3 =  np.percentile(dataset,[25,75])\n",
    "print(quantile1,quantile3)"
   ]
  },
  {
   "cell_type": "code",
   "execution_count": 31,
   "id": "7bd1fe25-213d-4135-927d-ea83c1801201",
   "metadata": {},
   "outputs": [
    {
     "name": "stdout",
     "output_type": "stream",
     "text": [
      "55.0\n"
     ]
    }
   ],
   "source": [
    "ipr_values = (quantile3 - quantile1)\n",
    "print(ipr_values)"
   ]
  },
  {
   "cell_type": "code",
   "execution_count": 33,
   "id": "8c812a77-3401-43a2-a2f9-9f1f2ee38e53",
   "metadata": {},
   "outputs": [
    {
     "name": "stdout",
     "output_type": "stream",
     "text": [
      "-64.5 155.5\n"
     ]
    }
   ],
   "source": [
    "lower_bound = quantile1 - (1.5*ipr_values)\n",
    "upper_bound = quantile3 + (1.5*ipr_values)\n",
    "print(lower_bound,upper_bound)"
   ]
  },
  {
   "cell_type": "code",
   "execution_count": 37,
   "id": "f0879d64-5608-43f8-9721-2cb0ac64ea69",
   "metadata": {},
   "outputs": [
    {
     "data": {
      "text/html": [
       "<div>\n",
       "<style scoped>\n",
       "    .dataframe tbody tr th:only-of-type {\n",
       "        vertical-align: middle;\n",
       "    }\n",
       "\n",
       "    .dataframe tbody tr th {\n",
       "        vertical-align: top;\n",
       "    }\n",
       "\n",
       "    .dataframe thead th {\n",
       "        text-align: right;\n",
       "    }\n",
       "</style>\n",
       "<table border=\"1\" class=\"dataframe\">\n",
       "  <thead>\n",
       "    <tr style=\"text-align: right;\">\n",
       "      <th></th>\n",
       "      <th>gender</th>\n",
       "      <th>race/ethnicity</th>\n",
       "      <th>parental level of education</th>\n",
       "      <th>lunch</th>\n",
       "      <th>test preparation course</th>\n",
       "      <th>Year_Birth</th>\n",
       "      <th>math score</th>\n",
       "      <th>reading score</th>\n",
       "      <th>writing score</th>\n",
       "      <th>Dt_Admission</th>\n",
       "      <th>College_Fees</th>\n",
       "      <th>age</th>\n",
       "    </tr>\n",
       "  </thead>\n",
       "  <tbody>\n",
       "    <tr>\n",
       "      <th>0</th>\n",
       "      <td>female</td>\n",
       "      <td>group B</td>\n",
       "      <td>bachelor's degree</td>\n",
       "      <td>standard</td>\n",
       "      <td>none</td>\n",
       "      <td>1970.0</td>\n",
       "      <td>72.0</td>\n",
       "      <td>72.0</td>\n",
       "      <td>74</td>\n",
       "      <td>2014-06-16</td>\n",
       "      <td>$84,835.00</td>\n",
       "      <td>53.0</td>\n",
       "    </tr>\n",
       "    <tr>\n",
       "      <th>1</th>\n",
       "      <td>female</td>\n",
       "      <td>group C</td>\n",
       "      <td>some college</td>\n",
       "      <td>standard</td>\n",
       "      <td>completed</td>\n",
       "      <td>1961.0</td>\n",
       "      <td>NaN</td>\n",
       "      <td>NaN</td>\n",
       "      <td>A</td>\n",
       "      <td>2014-06-15</td>\n",
       "      <td>$57,091.00</td>\n",
       "      <td>62.0</td>\n",
       "    </tr>\n",
       "    <tr>\n",
       "      <th>2</th>\n",
       "      <td>female</td>\n",
       "      <td>group B</td>\n",
       "      <td>master's degree</td>\n",
       "      <td>standard</td>\n",
       "      <td>none</td>\n",
       "      <td>1958.0</td>\n",
       "      <td>90.0</td>\n",
       "      <td>95.0</td>\n",
       "      <td>93</td>\n",
       "      <td>2014-05-13</td>\n",
       "      <td>$67,267.00</td>\n",
       "      <td>65.0</td>\n",
       "    </tr>\n",
       "    <tr>\n",
       "      <th>3</th>\n",
       "      <td>male</td>\n",
       "      <td>group A</td>\n",
       "      <td>associate's degree</td>\n",
       "      <td>free/reduced</td>\n",
       "      <td>none</td>\n",
       "      <td>1967.0</td>\n",
       "      <td>NaN</td>\n",
       "      <td>NaN</td>\n",
       "      <td>44</td>\n",
       "      <td>2014-05-11</td>\n",
       "      <td>$32,474.00</td>\n",
       "      <td>56.0</td>\n",
       "    </tr>\n",
       "    <tr>\n",
       "      <th>4</th>\n",
       "      <td>male</td>\n",
       "      <td>group C</td>\n",
       "      <td>some college</td>\n",
       "      <td>standard</td>\n",
       "      <td>none</td>\n",
       "      <td>1989.0</td>\n",
       "      <td>76.0</td>\n",
       "      <td>78.0</td>\n",
       "      <td>75</td>\n",
       "      <td>2014-04-08</td>\n",
       "      <td>$21,474.00</td>\n",
       "      <td>34.0</td>\n",
       "    </tr>\n",
       "  </tbody>\n",
       "</table>\n",
       "</div>"
      ],
      "text/plain": [
       "   gender race/ethnicity parental level of education         lunch  \\\n",
       "0  female        group B           bachelor's degree      standard   \n",
       "1  female        group C                some college      standard   \n",
       "2  female        group B             master's degree      standard   \n",
       "3    male        group A          associate's degree  free/reduced   \n",
       "4    male        group C                some college      standard   \n",
       "\n",
       "  test preparation course  Year_Birth  math score  reading score  \\\n",
       "0                    none      1970.0        72.0           72.0   \n",
       "1               completed      1961.0         NaN            NaN   \n",
       "2                    none      1958.0        90.0           95.0   \n",
       "3                    none      1967.0         NaN            NaN   \n",
       "4                    none      1989.0        76.0           78.0   \n",
       "\n",
       "  writing score Dt_Admission College_Fees   age  \n",
       "0            74   2014-06-16  $84,835.00   53.0  \n",
       "1             A   2014-06-15  $57,091.00   62.0  \n",
       "2            93   2014-05-13  $67,267.00   65.0  \n",
       "3            44   2014-05-11  $32,474.00   56.0  \n",
       "4            75   2014-04-08  $21,474.00   34.0  "
      ]
     },
     "execution_count": 37,
     "metadata": {},
     "output_type": "execute_result"
    }
   ],
   "source": [
    "from datetime import date\n",
    "df['age'] = date.today().year - df['Year_Birth']\n",
    "df.head()"
   ]
  },
  {
   "cell_type": "code",
   "execution_count": 39,
   "id": "190ca49f-5148-404a-930e-35c476c67c58",
   "metadata": {},
   "outputs": [
    {
     "data": {
      "text/html": [
       "<div>\n",
       "<style scoped>\n",
       "    .dataframe tbody tr th:only-of-type {\n",
       "        vertical-align: middle;\n",
       "    }\n",
       "\n",
       "    .dataframe tbody tr th {\n",
       "        vertical-align: top;\n",
       "    }\n",
       "\n",
       "    .dataframe thead th {\n",
       "        text-align: right;\n",
       "    }\n",
       "</style>\n",
       "<table border=\"1\" class=\"dataframe\">\n",
       "  <thead>\n",
       "    <tr style=\"text-align: right;\">\n",
       "      <th></th>\n",
       "      <th>gender</th>\n",
       "      <th>race/ethnicity</th>\n",
       "      <th>parental level of education</th>\n",
       "      <th>lunch</th>\n",
       "      <th>test preparation course</th>\n",
       "      <th>Year_Birth</th>\n",
       "      <th>math score</th>\n",
       "      <th>reading score</th>\n",
       "      <th>writing score</th>\n",
       "      <th>Dt_Admission</th>\n",
       "      <th>College_Fees</th>\n",
       "      <th>age</th>\n",
       "      <th>Year</th>\n",
       "      <th>E_L</th>\n",
       "      <th>Fees$</th>\n",
       "      <th>Fees_M$</th>\n",
       "    </tr>\n",
       "  </thead>\n",
       "  <tbody>\n",
       "    <tr>\n",
       "      <th>0</th>\n",
       "      <td>female</td>\n",
       "      <td>group B</td>\n",
       "      <td>bachelor's degree</td>\n",
       "      <td>standard</td>\n",
       "      <td>none</td>\n",
       "      <td>1970.0</td>\n",
       "      <td>72.0</td>\n",
       "      <td>72.0</td>\n",
       "      <td>74</td>\n",
       "      <td>2014-06-16</td>\n",
       "      <td>$84,835.00</td>\n",
       "      <td>53.0</td>\n",
       "      <td>2014.0</td>\n",
       "      <td>9.0</td>\n",
       "      <td>8483500</td>\n",
       "      <td>8</td>\n",
       "    </tr>\n",
       "    <tr>\n",
       "      <th>1</th>\n",
       "      <td>female</td>\n",
       "      <td>group C</td>\n",
       "      <td>some college</td>\n",
       "      <td>standard</td>\n",
       "      <td>completed</td>\n",
       "      <td>1961.0</td>\n",
       "      <td>NaN</td>\n",
       "      <td>NaN</td>\n",
       "      <td>A</td>\n",
       "      <td>2014-06-15</td>\n",
       "      <td>$57,091.00</td>\n",
       "      <td>62.0</td>\n",
       "      <td>2014.0</td>\n",
       "      <td>9.0</td>\n",
       "      <td>5709100</td>\n",
       "      <td>6</td>\n",
       "    </tr>\n",
       "    <tr>\n",
       "      <th>2</th>\n",
       "      <td>female</td>\n",
       "      <td>group B</td>\n",
       "      <td>master's degree</td>\n",
       "      <td>standard</td>\n",
       "      <td>none</td>\n",
       "      <td>1958.0</td>\n",
       "      <td>90.0</td>\n",
       "      <td>95.0</td>\n",
       "      <td>93</td>\n",
       "      <td>2014-05-13</td>\n",
       "      <td>$67,267.00</td>\n",
       "      <td>65.0</td>\n",
       "      <td>2014.0</td>\n",
       "      <td>9.0</td>\n",
       "      <td>6726700</td>\n",
       "      <td>7</td>\n",
       "    </tr>\n",
       "    <tr>\n",
       "      <th>3</th>\n",
       "      <td>male</td>\n",
       "      <td>group A</td>\n",
       "      <td>associate's degree</td>\n",
       "      <td>free/reduced</td>\n",
       "      <td>none</td>\n",
       "      <td>1967.0</td>\n",
       "      <td>NaN</td>\n",
       "      <td>NaN</td>\n",
       "      <td>44</td>\n",
       "      <td>2014-05-11</td>\n",
       "      <td>$32,474.00</td>\n",
       "      <td>56.0</td>\n",
       "      <td>2014.0</td>\n",
       "      <td>9.0</td>\n",
       "      <td>3247400</td>\n",
       "      <td>3</td>\n",
       "    </tr>\n",
       "    <tr>\n",
       "      <th>4</th>\n",
       "      <td>male</td>\n",
       "      <td>group C</td>\n",
       "      <td>some college</td>\n",
       "      <td>standard</td>\n",
       "      <td>none</td>\n",
       "      <td>1989.0</td>\n",
       "      <td>76.0</td>\n",
       "      <td>78.0</td>\n",
       "      <td>75</td>\n",
       "      <td>2014-04-08</td>\n",
       "      <td>$21,474.00</td>\n",
       "      <td>34.0</td>\n",
       "      <td>2014.0</td>\n",
       "      <td>9.0</td>\n",
       "      <td>2147400</td>\n",
       "      <td>2</td>\n",
       "    </tr>\n",
       "  </tbody>\n",
       "</table>\n",
       "</div>"
      ],
      "text/plain": [
       "   gender race/ethnicity parental level of education         lunch  \\\n",
       "0  female        group B           bachelor's degree      standard   \n",
       "1  female        group C                some college      standard   \n",
       "2  female        group B             master's degree      standard   \n",
       "3    male        group A          associate's degree  free/reduced   \n",
       "4    male        group C                some college      standard   \n",
       "\n",
       "  test preparation course  Year_Birth  math score  reading score  \\\n",
       "0                    none      1970.0        72.0           72.0   \n",
       "1               completed      1961.0         NaN            NaN   \n",
       "2                    none      1958.0        90.0           95.0   \n",
       "3                    none      1967.0         NaN            NaN   \n",
       "4                    none      1989.0        76.0           78.0   \n",
       "\n",
       "  writing score Dt_Admission College_Fees   age    Year  E_L    Fees$  Fees_M$  \n",
       "0            74   2014-06-16  $84,835.00   53.0  2014.0  9.0  8483500        8  \n",
       "1             A   2014-06-15  $57,091.00   62.0  2014.0  9.0  5709100        6  \n",
       "2            93   2014-05-13  $67,267.00   65.0  2014.0  9.0  6726700        7  \n",
       "3            44   2014-05-11  $32,474.00   56.0  2014.0  9.0  3247400        3  \n",
       "4            75   2014-04-08  $21,474.00   34.0  2014.0  9.0  2147400        2  "
      ]
     },
     "execution_count": 39,
     "metadata": {},
     "output_type": "execute_result"
    }
   ],
   "source": [
    "df['Year'] = pd.DatetimeIndex(df['Dt_Admission']).year\n",
    "df['E_L'] = date.today().year - df['Year']\n",
    "df.head()\n"
   ]
  }
 ],
 "metadata": {
  "kernelspec": {
   "display_name": "Python 3 (ipykernel)",
   "language": "python",
   "name": "python3"
  },
  "language_info": {
   "codemirror_mode": {
    "name": "ipython",
    "version": 3
   },
   "file_extension": ".py",
   "mimetype": "text/x-python",
   "name": "python",
   "nbconvert_exporter": "python",
   "pygments_lexer": "ipython3",
   "version": "3.11.0"
  }
 },
 "nbformat": 4,
 "nbformat_minor": 5
}
